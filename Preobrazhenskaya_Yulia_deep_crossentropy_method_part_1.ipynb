{
  "cells": [
    {
      "cell_type": "markdown",
      "metadata": {
        "id": "I_i1q1TWG9zH"
      },
      "source": [
        "# Deep Crossentropy method\n",
        "\n",
        "In this section we'll extend your CEM implementation with neural networks! You will train a multi-layer neural network to solve simple continuous state space games. __Please make sure you're done with tabular crossentropy method from the previous notebook.__\n",
        "\n",
        "![img](https://watanimg.elwatannews.com/old_news_images/large/249765_Large_20140709045740_11.jpg)\n",
        "\n"
      ]
    },
    {
      "cell_type": "code",
      "execution_count": null,
      "metadata": {
        "id": "t4CJ1sRyG9zJ",
        "outputId": "ada4a38d-d6a4-4f59-ff0b-24dc6eb233cb",
        "colab": {
          "base_uri": "https://localhost:8080/"
        }
      },
      "outputs": [
        {
          "output_type": "stream",
          "name": "stdout",
          "text": [
            "Selecting previously unselected package libfontenc1:amd64.\n",
            "(Reading database ... 121753 files and directories currently installed.)\n",
            "Preparing to unpack .../0-libfontenc1_1%3a1.1.4-1build3_amd64.deb ...\n",
            "Unpacking libfontenc1:amd64 (1:1.1.4-1build3) ...\n",
            "Selecting previously unselected package libxfont2:amd64.\n",
            "Preparing to unpack .../1-libxfont2_1%3a2.0.5-1build1_amd64.deb ...\n",
            "Unpacking libxfont2:amd64 (1:2.0.5-1build1) ...\n",
            "Selecting previously unselected package libxkbfile1:amd64.\n",
            "Preparing to unpack .../2-libxkbfile1_1%3a1.1.0-1build3_amd64.deb ...\n",
            "Unpacking libxkbfile1:amd64 (1:1.1.0-1build3) ...\n",
            "Selecting previously unselected package x11-xkb-utils.\n",
            "Preparing to unpack .../3-x11-xkb-utils_7.7+5build4_amd64.deb ...\n",
            "Unpacking x11-xkb-utils (7.7+5build4) ...\n",
            "Selecting previously unselected package xfonts-encodings.\n",
            "Preparing to unpack .../4-xfonts-encodings_1%3a1.0.5-0ubuntu2_all.deb ...\n",
            "Unpacking xfonts-encodings (1:1.0.5-0ubuntu2) ...\n",
            "Selecting previously unselected package xfonts-utils.\n",
            "Preparing to unpack .../5-xfonts-utils_1%3a7.7+6build2_amd64.deb ...\n",
            "Unpacking xfonts-utils (1:7.7+6build2) ...\n",
            "Selecting previously unselected package xfonts-base.\n",
            "Preparing to unpack .../6-xfonts-base_1%3a1.0.5_all.deb ...\n",
            "Unpacking xfonts-base (1:1.0.5) ...\n",
            "Selecting previously unselected package xserver-common.\n",
            "Preparing to unpack .../7-xserver-common_2%3a21.1.4-2ubuntu1.7~22.04.8_all.deb ...\n",
            "Unpacking xserver-common (2:21.1.4-2ubuntu1.7~22.04.8) ...\n",
            "Selecting previously unselected package xvfb.\n",
            "Preparing to unpack .../8-xvfb_2%3a21.1.4-2ubuntu1.7~22.04.8_amd64.deb ...\n",
            "Unpacking xvfb (2:21.1.4-2ubuntu1.7~22.04.8) ...\n",
            "Setting up libfontenc1:amd64 (1:1.1.4-1build3) ...\n",
            "Setting up xfonts-encodings (1:1.0.5-0ubuntu2) ...\n",
            "Setting up libxkbfile1:amd64 (1:1.1.0-1build3) ...\n",
            "Setting up libxfont2:amd64 (1:2.0.5-1build1) ...\n",
            "Setting up x11-xkb-utils (7.7+5build4) ...\n",
            "Setting up xfonts-utils (1:7.7+6build2) ...\n",
            "Setting up xfonts-base (1:1.0.5) ...\n",
            "Setting up xserver-common (2:21.1.4-2ubuntu1.7~22.04.8) ...\n",
            "Setting up xvfb (2:21.1.4-2ubuntu1.7~22.04.8) ...\n",
            "Processing triggers for man-db (2.10.2-1) ...\n",
            "Processing triggers for fontconfig (2.13.1-4.2ubuntu5) ...\n",
            "Processing triggers for libc-bin (2.35-0ubuntu3.4) ...\n",
            "/sbin/ldconfig.real: /usr/local/lib/libtbbmalloc_proxy.so.2 is not a symbolic link\n",
            "\n",
            "/sbin/ldconfig.real: /usr/local/lib/libtbbbind_2_5.so.3 is not a symbolic link\n",
            "\n",
            "/sbin/ldconfig.real: /usr/local/lib/libtbb.so.12 is not a symbolic link\n",
            "\n",
            "/sbin/ldconfig.real: /usr/local/lib/libtbbmalloc.so.2 is not a symbolic link\n",
            "\n",
            "/sbin/ldconfig.real: /usr/local/lib/libtbbbind.so.3 is not a symbolic link\n",
            "\n",
            "/sbin/ldconfig.real: /usr/local/lib/libtbbbind_2_0.so.3 is not a symbolic link\n",
            "\n",
            "Starting virtual X frame buffer: Xvfb.\n"
          ]
        }
      ],
      "source": [
        "import sys, os\n",
        "if 'google.colab' in sys.modules and not os.path.exists('.setup_complete'):\n",
        "    !wget -q https://raw.githubusercontent.com/yandexdataschool/Practical_RL/master/setup_colab.sh -O- | bash\n",
        "    !touch .setup_complete\n",
        "\n",
        "# This code creates a virtual display to draw game images on.\n",
        "# It will have no effect if your machine has a monitor.\n",
        "if type(os.environ.get(\"DISPLAY\")) is not str or len(os.environ.get(\"DISPLAY\")) == 0:\n",
        "    !bash ../xvfb start\n",
        "    os.environ['DISPLAY'] = ':1'"
      ]
    },
    {
      "cell_type": "code",
      "execution_count": null,
      "metadata": {
        "id": "_2zbc7ahG9zK",
        "outputId": "7ea2645b-3a17-46bf-8d6d-bf3c26886f07",
        "colab": {
          "base_uri": "https://localhost:8080/",
          "height": 485
        }
      },
      "outputs": [
        {
          "output_type": "stream",
          "name": "stderr",
          "text": [
            "/usr/local/lib/python3.10/dist-packages/gymnasium/envs/registration.py:513: DeprecationWarning: \u001b[33mWARN: The environment CartPole-v0 is out of date. You should consider upgrading to version `v1`.\u001b[0m\n",
            "  logger.deprecation(\n"
          ]
        },
        {
          "output_type": "stream",
          "name": "stdout",
          "text": [
            "state vector dim = 4\n",
            "n_actions = 2\n"
          ]
        },
        {
          "output_type": "display_data",
          "data": {
            "text/plain": [
              "<Figure size 640x480 with 1 Axes>"
            ],
            "image/png": "[encoded data removed]"
          },
          "metadata": {}
        }
      ],
      "source": [
        "import gymnasium as gym\n",
        "import numpy as np\n",
        "import matplotlib.pyplot as plt\n",
        "%matplotlib inline\n",
        "\n",
        "# if you see \"<classname> has no attribute .env\", remove .env or update gym\n",
        "env = gym.make(\"CartPole-v0\", render_mode=\"rgb_array\").env\n",
        "\n",
        "env.reset()\n",
        "n_actions = env.action_space.n\n",
        "state_dim = env.observation_space.shape[0]\n",
        "\n",
        "plt.imshow(env.render())\n",
        "print(\"state vector dim =\", state_dim)\n",
        "print(\"n_actions =\", n_actions)\n",
        "\n",
        "env.close()"
      ]
    },
    {
      "cell_type": "markdown",
      "metadata": {
        "id": "Z72_alhdG9zK"
      },
      "source": [
        "# Neural Network Policy\n",
        "\n",
        "For this assignment we'll utilize the simplified neural network implementation from __[Scikit-learn](https://scikit-learn.org/stable/modules/generated/sklearn.neural_network.MLPClassifier.html)__. Here's what you'll need:\n",
        "\n",
        "* `agent.partial_fit(states, actions)` - make a single training pass over the data. Maximize the probability of :actions: from :states:\n",
        "* `agent.predict_proba(states)` - predict probabilities of all actions, a matrix of shape __[len(states), n_actions]__\n"
      ]
    },
    {
      "cell_type": "code",
      "execution_count": null,
      "metadata": {
        "id": "wLItY4unG9zL",
        "outputId": "3bba4014-20ed-4fbc-9aa0-e125960a29bc",
        "colab": {
          "base_uri": "https://localhost:8080/",
          "height": 74
        }
      },
      "outputs": [
        {
          "output_type": "execute_result",
          "data": {
            "text/plain": [
              "MLPClassifier(activation='tanh', hidden_layer_sizes=(20, 20))"
            ],
            "text/html": [
              "<style>#sk-container-id-1 {color: black;background-color: white;}#sk-container-id-1 pre{padding: 0;}#sk-container-id-1 div.sk-toggleable {background-color: white;}#sk-container-id-1 label.sk-toggleable__label {cursor: pointer;display: block;width: 100%;margin-bottom: 0;padding: 0.3em;box-sizing: border-box;text-align: center;}#sk-container-id-1 label.sk-toggleable__label-arrow:before {content: \"▸\";float: left;margin-right: 0.25em;color: #696969;}#sk-container-id-1 label.sk-toggleable__label-arrow:hover:before {color: black;}#sk-container-id-1 div.sk-estimator:hover label.sk-toggleable__label-arrow:before {color: black;}#sk-container-id-1 div.sk-toggleable__content {max-height: 0;max-width: 0;overflow: hidden;text-align: left;background-color: #f0f8ff;}#sk-container-id-1 div.sk-toggleable__content pre {margin: 0.2em;color: black;border-radius: 0.25em;background-color: #f0f8ff;}#sk-container-id-1 input.sk-toggleable__control:checked~div.sk-toggleable__content {max-height: 200px;max-width: 100%;overflow: auto;}#sk-container-id-1 input.sk-toggleable__control:checked~label.sk-toggleable__label-arrow:before {content: \"▾\";}#sk-container-id-1 div.sk-estimator input.sk-toggleable__control:checked~label.sk-toggleable__label {background-color: #d4ebff;}#sk-container-id-1 div.sk-label input.sk-toggleable__control:checked~label.sk-toggleable__label {background-color: #d4ebff;}#sk-container-id-1 input.sk-hidden--visually {border: 0;clip: rect(1px 1px 1px 1px);clip: rect(1px, 1px, 1px, 1px);height: 1px;margin: -1px;overflow: hidden;padding: 0;position: absolute;width: 1px;}#sk-container-id-1 div.sk-estimator {font-family: monospace;background-color: #f0f8ff;border: 1px dotted black;border-radius: 0.25em;box-sizing: border-box;margin-bottom: 0.5em;}#sk-container-id-1 div.sk-estimator:hover {background-color: #d4ebff;}#sk-container-id-1 div.sk-parallel-item::after {content: \"\";width: 100%;border-bottom: 1px solid gray;flex-grow: 1;}#sk-container-id-1 div.sk-label:hover label.sk-toggleable__label {background-color: #d4ebff;}#sk-container-id-1 div.sk-serial::before {content: \"\";position: absolute;border-left: 1px solid gray;box-sizing: border-box;top: 0;bottom: 0;left: 50%;z-index: 0;}#sk-container-id-1 div.sk-serial {display: flex;flex-direction: column;align-items: center;background-color: white;padding-right: 0.2em;padding-left: 0.2em;position: relative;}#sk-container-id-1 div.sk-item {position: relative;z-index: 1;}#sk-container-id-1 div.sk-parallel {display: flex;align-items: stretch;justify-content: center;background-color: white;position: relative;}#sk-container-id-1 div.sk-item::before, #sk-container-id-1 div.sk-parallel-item::before {content: \"\";position: absolute;border-left: 1px solid gray;box-sizing: border-box;top: 0;bottom: 0;left: 50%;z-index: -1;}#sk-container-id-1 div.sk-parallel-item {display: flex;flex-direction: column;z-index: 1;position: relative;background-color: white;}#sk-container-id-1 div.sk-parallel-item:first-child::after {align-self: flex-end;width: 50%;}#sk-container-id-1 div.sk-parallel-item:last-child::after {align-self: flex-start;width: 50%;}#sk-container-id-1 div.sk-parallel-item:only-child::after {width: 0;}#sk-container-id-1 div.sk-dashed-wrapped {border: 1px dashed gray;margin: 0 0.4em 0.5em 0.4em;box-sizing: border-box;padding-bottom: 0.4em;background-color: white;}#sk-container-id-1 div.sk-label label {font-family: monospace;font-weight: bold;display: inline-block;line-height: 1.2em;}#sk-container-id-1 div.sk-label-container {text-align: center;}#sk-container-id-1 div.sk-container {/* jupyter's `normalize.less` sets `[hidden] { display: none; }` but bootstrap.min.css set `[hidden] { display: none !important; }` so we also need the `!important` here to be able to override the default hidden behavior on the sphinx rendered scikit-learn.org. See: https://github.com/scikit-learn/scikit-learn/issues/21755 */display: inline-block !important;position: relative;}#sk-container-id-1 div.sk-text-repr-fallback {display: none;}</style><div id=\"sk-container-id-1\" class=\"sk-top-container\"><div class=\"sk-text-repr-fallback\"><pre>MLPClassifier(activation=&#x27;tanh&#x27;, hidden_layer_sizes=(20, 20))</pre><b>In a Jupyter environment, please rerun this cell to show the HTML representation or trust the notebook. <br />On GitHub, the HTML representation is unable to render, please try loading this page with nbviewer.org.</b></div><div class=\"sk-container\" hidden><div class=\"sk-item\"><div class=\"sk-estimator sk-toggleable\"><input class=\"sk-toggleable__control sk-hidden--visually\" id=\"sk-estimator-id-1\" type=\"checkbox\" checked><label for=\"sk-estimator-id-1\" class=\"sk-toggleable__label sk-toggleable__label-arrow\">MLPClassifier</label><div class=\"sk-toggleable__content\"><pre>MLPClassifier(activation=&#x27;tanh&#x27;, hidden_layer_sizes=(20, 20))</pre></div></div></div></div></div>"
            ]
          },
          "metadata": {},
          "execution_count": 4
        }
      ],
      "source": [
        "from sklearn.neural_network import MLPClassifier\n",
        "\n",
        "agent = MLPClassifier(\n",
        "    hidden_layer_sizes=(20, 20),\n",
        "    activation=\"tanh\",\n",
        ")\n",
        "\n",
        "# initialize agent to the dimension of state space and number of actions\n",
        "agent.partial_fit([env.reset()[0]] * n_actions, range(n_actions), range(n_actions))\n"
      ]
    },
    {
      "cell_type": "code",
      "execution_count": null,
      "metadata": {
        "id": "eyFS3oUmG9zL"
      },
      "outputs": [],
      "source": [
        "def generate_session(env, agent, t_max=1000):\n",
        "    \"\"\"\n",
        "    Play a single game using agent neural network.\n",
        "    Terminate when game finishes or after :t_max: steps\n",
        "    \"\"\"\n",
        "    states, actions = [], []\n",
        "    total_reward = 0\n",
        "\n",
        "    s, _ = env.reset()\n",
        "\n",
        "    for t in range(t_max):\n",
        "\n",
        "        # use agent to predict a vector of action probabilities for state :s:\n",
        "        probs = agent.predict_proba(s.reshape(1, -1)).flatten()\n",
        "\n",
        "        assert probs.shape == (env.action_space.n,), \"make sure probabilities are a vector (hint: np.reshape)\"\n",
        "\n",
        "        # use the probabilities you predicted to pick an action\n",
        "        # sample proportionally to the probabilities, don't just take the most likely action\n",
        "        a = np.random.choice(np.arange(n_actions), p = probs)\n",
        "        # ^-- hint: try np.random.choice\n",
        "\n",
        "        new_s, r, terminated, truncated, _ = env.step(a)\n",
        "\n",
        "        # record sessions like you did before\n",
        "        states.append(s)\n",
        "        actions.append(a)\n",
        "        total_reward += r\n",
        "\n",
        "        s = new_s\n",
        "        if terminated or truncated:\n",
        "            break\n",
        "    return states, actions, total_reward\n"
      ]
    },
    {
      "cell_type": "code",
      "execution_count": null,
      "metadata": {
        "id": "4xgrTCgJG9zL",
        "outputId": "0e21e7c4-e750-4dfd-d237-15579d69ce85",
        "colab": {
          "base_uri": "https://localhost:8080/"
        }
      },
      "outputs": [
        {
          "output_type": "stream",
          "name": "stdout",
          "text": [
            "states: [[-0.01998032  0.01295165  0.03922421  0.00261021]\n",
            " [-0.01972128  0.20748976  0.03927641 -0.27744353]\n",
            " [-0.01557149  0.01183012  0.03372755  0.02736386]\n",
            " [-0.01533488  0.20645258  0.03427482 -0.25448975]\n",
            " [-0.01120583  0.01085842  0.02918503  0.04880396]]\n",
            "actions: [1, 0, 1, 0, 1]\n",
            "reward: 5.0\n"
          ]
        }
      ],
      "source": [
        "dummy_states, dummy_actions, dummy_reward = generate_session(env, agent, t_max=5)\n",
        "print(\"states:\", np.stack(dummy_states))\n",
        "print(\"actions:\", dummy_actions)\n",
        "print(\"reward:\", dummy_reward)\n"
      ]
    },
    {
      "cell_type": "markdown",
      "metadata": {
        "id": "p85lt16qG9zL"
      },
      "source": [
        "### CEM steps\n",
        "Deep CEM uses exactly the same strategy as the regular CEM, so you can copy your function code from previous notebook.\n",
        "\n",
        "The only difference is that now each observation is not a number but a `float32` vector."
      ]
    },
    {
      "cell_type": "code",
      "execution_count": null,
      "metadata": {
        "id": "4On-p7p4G9zL"
      },
      "outputs": [],
      "source": [
        "def select_elites(states_batch, actions_batch, rewards_batch, percentile=50):\n",
        "    \"\"\"\n",
        "    Select states and actions from games that have rewards >= percentile\n",
        "    :param states_batch: list of lists of states, states_batch[session_i][t]\n",
        "    :param actions_batch: list of lists of actions, actions_batch[session_i][t]\n",
        "    :param rewards_batch: list of rewards, rewards_batch[session_i]\n",
        "\n",
        "    :returns: elite_states,elite_actions, both 1D lists of states and respective actions from elite sessions\n",
        "\n",
        "    Please return elite states and actions in their original order\n",
        "    [i.e. sorted by session number and timestep within session]\n",
        "\n",
        "    If you are confused, see examples below. Please don't assume that states are integers\n",
        "    (they will become different later).\n",
        "    \"\"\"\n",
        "    reward_threshold = np.percentile(rewards_batch, q=percentile)\n",
        "    elite_mask = rewards_batch >= reward_threshold\n",
        "\n",
        "    elite_states = np.concatenate([state for state, is_elite in zip(states_batch, elite_mask) if is_elite])\n",
        "    elite_actions = np.concatenate([action for action, is_elite in zip(actions_batch, elite_mask) if is_elite])\n",
        "\n",
        "    return elite_states, elite_actions\n"
      ]
    },
    {
      "cell_type": "markdown",
      "metadata": {
        "id": "xc40V4DaG9zM"
      },
      "source": [
        "# Training loop\n",
        "Generate sessions, select N best and fit to those."
      ]
    },
    {
      "cell_type": "code",
      "execution_count": null,
      "metadata": {
        "id": "PPwVKwF7G9zM"
      },
      "outputs": [],
      "source": [
        "from IPython.display import clear_output\n",
        "\n",
        "\n",
        "def show_progress(rewards_batch, log, percentile, reward_range=[-990, +10]):\n",
        "    \"\"\"\n",
        "    A convenience function that displays training progress.\n",
        "    No cool math here, just charts.\n",
        "    \"\"\"\n",
        "\n",
        "    mean_reward = np.mean(rewards_batch)\n",
        "    threshold = np.percentile(rewards_batch, percentile)\n",
        "    log.append([mean_reward, threshold])\n",
        "\n",
        "    clear_output(True)\n",
        "    print(\"mean reward = %.3f, threshold=%.3f\" % (mean_reward, threshold))\n",
        "    plt.figure(figsize=[8, 4])\n",
        "    plt.subplot(1, 2, 1)\n",
        "    plt.plot(list(zip(*log))[0], label=\"Mean rewards\")\n",
        "    plt.plot(list(zip(*log))[1], label=\"Reward thresholds\")\n",
        "    plt.legend()\n",
        "    plt.grid()\n",
        "\n",
        "    plt.subplot(1, 2, 2)\n",
        "    plt.hist(rewards_batch, range=reward_range)\n",
        "    plt.vlines(\n",
        "        [np.percentile(rewards_batch, percentile)],\n",
        "        [0],\n",
        "        [100],\n",
        "        label=\"percentile\",\n",
        "        color=\"red\",\n",
        "    )\n",
        "    plt.legend()\n",
        "    plt.grid()\n",
        "\n",
        "    plt.show()\n"
      ]
    },
    {
      "cell_type": "code",
      "execution_count": null,
      "metadata": {
        "id": "euK7WRQiG9zM",
        "colab": {
          "base_uri": "https://localhost:8080/",
          "height": 403
        },
        "outputId": "763bbe3c-a97c-4f5f-ee6d-b13b63c7ec33"
      },
      "outputs": [
        {
          "output_type": "stream",
          "name": "stdout",
          "text": [
            "mean reward = 193.090, threshold=222.600\n"
          ]
        },
        {
          "output_type": "display_data",
          "data": {
            "text/plain": [
              "<Figure size 800x400 with 2 Axes>"
            ],
            "image/png": "[encoded data removed]"
          },
          "metadata": {}
        },
        {
          "output_type": "stream",
          "name": "stdout",
          "text": [
            "You Win! You may stop training now via KeyboardInterrupt.\n"
          ]
        }
      ],
      "source": [
        "n_sessions = 100\n",
        "percentile = 70\n",
        "log = []\n",
        "\n",
        "for i in range(100):\n",
        "    # generate new sessions\n",
        "    sessions = [generate_session(env, agent) for _ in range(n_sessions)]\n",
        "\n",
        "    states_batch, actions_batch, rewards_batch = zip(*sessions)\n",
        "\n",
        "    elite_states, elite_actions = select_elites(states_batch, actions_batch, rewards_batch, percentile)\n",
        "\n",
        "    agent.partial_fit(elite_states, elite_actions)\n",
        "\n",
        "\n",
        "    show_progress(\n",
        "        rewards_batch, log, percentile, reward_range=[0, np.max(rewards_batch)]\n",
        "    )\n",
        "\n",
        "    if np.mean(rewards_batch) > 190:\n",
        "        print(\"You Win! You may stop training now via KeyboardInterrupt.\")\n",
        "        break\n"
      ]
    },
    {
      "cell_type": "markdown",
      "metadata": {
        "id": "yeNWKjtsG9zM"
      },
      "source": [
        "# Results"
      ]
    },
    {
      "cell_type": "code",
      "execution_count": null,
      "metadata": {
        "id": "RJwsWl4kG9zM",
        "colab": {
          "base_uri": "https://localhost:8080/"
        },
        "outputId": "0be366ca-7cb1-4616-e04c-10f3522a0950"
      },
      "outputs": [
        {
          "output_type": "stream",
          "name": "stderr",
          "text": [
            "/usr/local/lib/python3.10/dist-packages/gymnasium/envs/registration.py:513: DeprecationWarning: \u001b[33mWARN: The environment CartPole-v0 is out of date. You should consider upgrading to version `v1`.\u001b[0m\n",
            "  logger.deprecation(\n"
          ]
        },
        {
          "output_type": "stream",
          "name": "stdout",
          "text": [
            "Moviepy - Building video /content/videos/rl-video-episode-0.mp4.\n",
            "Moviepy - Writing video /content/videos/rl-video-episode-0.mp4\n",
            "\n"
          ]
        },
        {
          "output_type": "stream",
          "name": "stderr",
          "text": []
        },
        {
          "output_type": "stream",
          "name": "stdout",
          "text": [
            "Moviepy - Done !\n",
            "Moviepy - video ready /content/videos/rl-video-episode-0.mp4\n",
            "Moviepy - Building video /content/videos/rl-video-episode-1.mp4.\n",
            "Moviepy - Writing video /content/videos/rl-video-episode-1.mp4\n",
            "\n"
          ]
        },
        {
          "output_type": "stream",
          "name": "stderr",
          "text": []
        },
        {
          "output_type": "stream",
          "name": "stdout",
          "text": [
            "Moviepy - Done !\n",
            "Moviepy - video ready /content/videos/rl-video-episode-1.mp4\n",
            "Moviepy - Building video /content/videos/rl-video-episode-2.mp4.\n",
            "Moviepy - Writing video /content/videos/rl-video-episode-2.mp4\n",
            "\n"
          ]
        },
        {
          "output_type": "stream",
          "name": "stderr",
          "text": []
        },
        {
          "output_type": "stream",
          "name": "stdout",
          "text": [
            "Moviepy - Done !\n",
            "Moviepy - video ready /content/videos/rl-video-episode-2.mp4\n",
            "Moviepy - Building video /content/videos/rl-video-episode-3.mp4.\n",
            "Moviepy - Writing video /content/videos/rl-video-episode-3.mp4\n",
            "\n"
          ]
        },
        {
          "output_type": "stream",
          "name": "stderr",
          "text": []
        },
        {
          "output_type": "stream",
          "name": "stdout",
          "text": [
            "Moviepy - Done !\n",
            "Moviepy - video ready /content/videos/rl-video-episode-3.mp4\n",
            "Moviepy - Building video /content/videos/rl-video-episode-4.mp4.\n",
            "Moviepy - Writing video /content/videos/rl-video-episode-4.mp4\n",
            "\n"
          ]
        },
        {
          "output_type": "stream",
          "name": "stderr",
          "text": []
        },
        {
          "output_type": "stream",
          "name": "stdout",
          "text": [
            "Moviepy - Done !\n",
            "Moviepy - video ready /content/videos/rl-video-episode-4.mp4\n",
            "Moviepy - Building video /content/videos/rl-video-episode-5.mp4.\n",
            "Moviepy - Writing video /content/videos/rl-video-episode-5.mp4\n",
            "\n"
          ]
        },
        {
          "output_type": "stream",
          "name": "stderr",
          "text": []
        },
        {
          "output_type": "stream",
          "name": "stdout",
          "text": [
            "Moviepy - Done !\n",
            "Moviepy - video ready /content/videos/rl-video-episode-5.mp4\n",
            "Moviepy - Building video /content/videos/rl-video-episode-6.mp4.\n",
            "Moviepy - Writing video /content/videos/rl-video-episode-6.mp4\n",
            "\n"
          ]
        },
        {
          "output_type": "stream",
          "name": "stderr",
          "text": []
        },
        {
          "output_type": "stream",
          "name": "stdout",
          "text": [
            "Moviepy - Done !\n",
            "Moviepy - video ready /content/videos/rl-video-episode-6.mp4\n",
            "Moviepy - Building video /content/videos/rl-video-episode-7.mp4.\n",
            "Moviepy - Writing video /content/videos/rl-video-episode-7.mp4\n",
            "\n"
          ]
        },
        {
          "output_type": "stream",
          "name": "stderr",
          "text": []
        },
        {
          "output_type": "stream",
          "name": "stdout",
          "text": [
            "Moviepy - Done !\n",
            "Moviepy - video ready /content/videos/rl-video-episode-7.mp4\n",
            "Moviepy - Building video /content/videos/rl-video-episode-8.mp4.\n",
            "Moviepy - Writing video /content/videos/rl-video-episode-8.mp4\n",
            "\n"
          ]
        },
        {
          "output_type": "stream",
          "name": "stderr",
          "text": []
        },
        {
          "output_type": "stream",
          "name": "stdout",
          "text": [
            "Moviepy - Done !\n",
            "Moviepy - video ready /content/videos/rl-video-episode-8.mp4\n",
            "Moviepy - Building video /content/videos/rl-video-episode-9.mp4.\n",
            "Moviepy - Writing video /content/videos/rl-video-episode-9.mp4\n",
            "\n"
          ]
        },
        {
          "output_type": "stream",
          "name": "stderr",
          "text": []
        },
        {
          "output_type": "stream",
          "name": "stdout",
          "text": [
            "Moviepy - Done !\n",
            "Moviepy - video ready /content/videos/rl-video-episode-9.mp4\n",
            "Moviepy - Building video /content/videos/rl-video-episode-10.mp4.\n",
            "Moviepy - Writing video /content/videos/rl-video-episode-10.mp4\n",
            "\n"
          ]
        },
        {
          "output_type": "stream",
          "name": "stderr",
          "text": []
        },
        {
          "output_type": "stream",
          "name": "stdout",
          "text": [
            "Moviepy - Done !\n",
            "Moviepy - video ready /content/videos/rl-video-episode-10.mp4\n",
            "Moviepy - Building video /content/videos/rl-video-episode-11.mp4.\n",
            "Moviepy - Writing video /content/videos/rl-video-episode-11.mp4\n",
            "\n"
          ]
        },
        {
          "output_type": "stream",
          "name": "stderr",
          "text": []
        },
        {
          "output_type": "stream",
          "name": "stdout",
          "text": [
            "Moviepy - Done !\n",
            "Moviepy - video ready /content/videos/rl-video-episode-11.mp4\n",
            "Moviepy - Building video /content/videos/rl-video-episode-12.mp4.\n",
            "Moviepy - Writing video /content/videos/rl-video-episode-12.mp4\n",
            "\n"
          ]
        },
        {
          "output_type": "stream",
          "name": "stderr",
          "text": []
        },
        {
          "output_type": "stream",
          "name": "stdout",
          "text": [
            "Moviepy - Done !\n",
            "Moviepy - video ready /content/videos/rl-video-episode-12.mp4\n",
            "Moviepy - Building video /content/videos/rl-video-episode-13.mp4.\n",
            "Moviepy - Writing video /content/videos/rl-video-episode-13.mp4\n",
            "\n"
          ]
        },
        {
          "output_type": "stream",
          "name": "stderr",
          "text": []
        },
        {
          "output_type": "stream",
          "name": "stdout",
          "text": [
            "Moviepy - Done !\n",
            "Moviepy - video ready /content/videos/rl-video-episode-13.mp4\n",
            "Moviepy - Building video /content/videos/rl-video-episode-14.mp4.\n",
            "Moviepy - Writing video /content/videos/rl-video-episode-14.mp4\n",
            "\n"
          ]
        },
        {
          "output_type": "stream",
          "name": "stderr",
          "text": []
        },
        {
          "output_type": "stream",
          "name": "stdout",
          "text": [
            "Moviepy - Done !\n",
            "Moviepy - video ready /content/videos/rl-video-episode-14.mp4\n",
            "Moviepy - Building video /content/videos/rl-video-episode-15.mp4.\n",
            "Moviepy - Writing video /content/videos/rl-video-episode-15.mp4\n",
            "\n"
          ]
        },
        {
          "output_type": "stream",
          "name": "stderr",
          "text": []
        },
        {
          "output_type": "stream",
          "name": "stdout",
          "text": [
            "Moviepy - Done !\n",
            "Moviepy - video ready /content/videos/rl-video-episode-15.mp4\n",
            "Moviepy - Building video /content/videos/rl-video-episode-16.mp4.\n",
            "Moviepy - Writing video /content/videos/rl-video-episode-16.mp4\n",
            "\n"
          ]
        },
        {
          "output_type": "stream",
          "name": "stderr",
          "text": []
        },
        {
          "output_type": "stream",
          "name": "stdout",
          "text": [
            "Moviepy - Done !\n",
            "Moviepy - video ready /content/videos/rl-video-episode-16.mp4\n",
            "Moviepy - Building video /content/videos/rl-video-episode-17.mp4.\n",
            "Moviepy - Writing video /content/videos/rl-video-episode-17.mp4\n",
            "\n"
          ]
        },
        {
          "output_type": "stream",
          "name": "stderr",
          "text": []
        },
        {
          "output_type": "stream",
          "name": "stdout",
          "text": [
            "Moviepy - Done !\n",
            "Moviepy - video ready /content/videos/rl-video-episode-17.mp4\n",
            "Moviepy - Building video /content/videos/rl-video-episode-18.mp4.\n",
            "Moviepy - Writing video /content/videos/rl-video-episode-18.mp4\n",
            "\n"
          ]
        },
        {
          "output_type": "stream",
          "name": "stderr",
          "text": []
        },
        {
          "output_type": "stream",
          "name": "stdout",
          "text": [
            "Moviepy - Done !\n",
            "Moviepy - video ready /content/videos/rl-video-episode-18.mp4\n",
            "Moviepy - Building video /content/videos/rl-video-episode-19.mp4.\n",
            "Moviepy - Writing video /content/videos/rl-video-episode-19.mp4\n",
            "\n"
          ]
        },
        {
          "output_type": "stream",
          "name": "stderr",
          "text": []
        },
        {
          "output_type": "stream",
          "name": "stdout",
          "text": [
            "Moviepy - Done !\n",
            "Moviepy - video ready /content/videos/rl-video-episode-19.mp4\n",
            "Moviepy - Building video /content/videos/rl-video-episode-20.mp4.\n",
            "Moviepy - Writing video /content/videos/rl-video-episode-20.mp4\n",
            "\n"
          ]
        },
        {
          "output_type": "stream",
          "name": "stderr",
          "text": []
        },
        {
          "output_type": "stream",
          "name": "stdout",
          "text": [
            "Moviepy - Done !\n",
            "Moviepy - video ready /content/videos/rl-video-episode-20.mp4\n",
            "Moviepy - Building video /content/videos/rl-video-episode-21.mp4.\n",
            "Moviepy - Writing video /content/videos/rl-video-episode-21.mp4\n",
            "\n"
          ]
        },
        {
          "output_type": "stream",
          "name": "stderr",
          "text": []
        },
        {
          "output_type": "stream",
          "name": "stdout",
          "text": [
            "Moviepy - Done !\n",
            "Moviepy - video ready /content/videos/rl-video-episode-21.mp4\n",
            "Moviepy - Building video /content/videos/rl-video-episode-22.mp4.\n",
            "Moviepy - Writing video /content/videos/rl-video-episode-22.mp4\n",
            "\n"
          ]
        },
        {
          "output_type": "stream",
          "name": "stderr",
          "text": []
        },
        {
          "output_type": "stream",
          "name": "stdout",
          "text": [
            "Moviepy - Done !\n",
            "Moviepy - video ready /content/videos/rl-video-episode-22.mp4\n",
            "Moviepy - Building video /content/videos/rl-video-episode-23.mp4.\n",
            "Moviepy - Writing video /content/videos/rl-video-episode-23.mp4\n",
            "\n"
          ]
        },
        {
          "output_type": "stream",
          "name": "stderr",
          "text": []
        },
        {
          "output_type": "stream",
          "name": "stdout",
          "text": [
            "Moviepy - Done !\n",
            "Moviepy - video ready /content/videos/rl-video-episode-23.mp4\n",
            "Moviepy - Building video /content/videos/rl-video-episode-24.mp4.\n",
            "Moviepy - Writing video /content/videos/rl-video-episode-24.mp4\n",
            "\n"
          ]
        },
        {
          "output_type": "stream",
          "name": "stderr",
          "text": []
        },
        {
          "output_type": "stream",
          "name": "stdout",
          "text": [
            "Moviepy - Done !\n",
            "Moviepy - video ready /content/videos/rl-video-episode-24.mp4\n",
            "Moviepy - Building video /content/videos/rl-video-episode-25.mp4.\n",
            "Moviepy - Writing video /content/videos/rl-video-episode-25.mp4\n",
            "\n"
          ]
        },
        {
          "output_type": "stream",
          "name": "stderr",
          "text": []
        },
        {
          "output_type": "stream",
          "name": "stdout",
          "text": [
            "Moviepy - Done !\n",
            "Moviepy - video ready /content/videos/rl-video-episode-25.mp4\n",
            "Moviepy - Building video /content/videos/rl-video-episode-26.mp4.\n",
            "Moviepy - Writing video /content/videos/rl-video-episode-26.mp4\n",
            "\n"
          ]
        },
        {
          "output_type": "stream",
          "name": "stderr",
          "text": []
        },
        {
          "output_type": "stream",
          "name": "stdout",
          "text": [
            "Moviepy - Done !\n",
            "Moviepy - video ready /content/videos/rl-video-episode-26.mp4\n",
            "Moviepy - Building video /content/videos/rl-video-episode-27.mp4.\n",
            "Moviepy - Writing video /content/videos/rl-video-episode-27.mp4\n",
            "\n"
          ]
        },
        {
          "output_type": "stream",
          "name": "stderr",
          "text": []
        },
        {
          "output_type": "stream",
          "name": "stdout",
          "text": [
            "Moviepy - Done !\n",
            "Moviepy - video ready /content/videos/rl-video-episode-27.mp4\n",
            "Moviepy - Building video /content/videos/rl-video-episode-28.mp4.\n",
            "Moviepy - Writing video /content/videos/rl-video-episode-28.mp4\n",
            "\n"
          ]
        },
        {
          "output_type": "stream",
          "name": "stderr",
          "text": []
        },
        {
          "output_type": "stream",
          "name": "stdout",
          "text": [
            "Moviepy - Done !\n",
            "Moviepy - video ready /content/videos/rl-video-episode-28.mp4\n",
            "Moviepy - Building video /content/videos/rl-video-episode-29.mp4.\n",
            "Moviepy - Writing video /content/videos/rl-video-episode-29.mp4\n",
            "\n"
          ]
        },
        {
          "output_type": "stream",
          "name": "stderr",
          "text": []
        },
        {
          "output_type": "stream",
          "name": "stdout",
          "text": [
            "Moviepy - Done !\n",
            "Moviepy - video ready /content/videos/rl-video-episode-29.mp4\n",
            "Moviepy - Building video /content/videos/rl-video-episode-30.mp4.\n",
            "Moviepy - Writing video /content/videos/rl-video-episode-30.mp4\n",
            "\n"
          ]
        },
        {
          "output_type": "stream",
          "name": "stderr",
          "text": []
        },
        {
          "output_type": "stream",
          "name": "stdout",
          "text": [
            "Moviepy - Done !\n",
            "Moviepy - video ready /content/videos/rl-video-episode-30.mp4\n",
            "Moviepy - Building video /content/videos/rl-video-episode-31.mp4.\n",
            "Moviepy - Writing video /content/videos/rl-video-episode-31.mp4\n",
            "\n"
          ]
        },
        {
          "output_type": "stream",
          "name": "stderr",
          "text": []
        },
        {
          "output_type": "stream",
          "name": "stdout",
          "text": [
            "Moviepy - Done !\n",
            "Moviepy - video ready /content/videos/rl-video-episode-31.mp4\n",
            "Moviepy - Building video /content/videos/rl-video-episode-32.mp4.\n",
            "Moviepy - Writing video /content/videos/rl-video-episode-32.mp4\n",
            "\n"
          ]
        },
        {
          "output_type": "stream",
          "name": "stderr",
          "text": []
        },
        {
          "output_type": "stream",
          "name": "stdout",
          "text": [
            "Moviepy - Done !\n",
            "Moviepy - video ready /content/videos/rl-video-episode-32.mp4\n",
            "Moviepy - Building video /content/videos/rl-video-episode-33.mp4.\n",
            "Moviepy - Writing video /content/videos/rl-video-episode-33.mp4\n",
            "\n"
          ]
        },
        {
          "output_type": "stream",
          "name": "stderr",
          "text": []
        },
        {
          "output_type": "stream",
          "name": "stdout",
          "text": [
            "Moviepy - Done !\n",
            "Moviepy - video ready /content/videos/rl-video-episode-33.mp4\n",
            "Moviepy - Building video /content/videos/rl-video-episode-34.mp4.\n",
            "Moviepy - Writing video /content/videos/rl-video-episode-34.mp4\n",
            "\n"
          ]
        },
        {
          "output_type": "stream",
          "name": "stderr",
          "text": []
        },
        {
          "output_type": "stream",
          "name": "stdout",
          "text": [
            "Moviepy - Done !\n",
            "Moviepy - video ready /content/videos/rl-video-episode-34.mp4\n",
            "Moviepy - Building video /content/videos/rl-video-episode-35.mp4.\n",
            "Moviepy - Writing video /content/videos/rl-video-episode-35.mp4\n",
            "\n"
          ]
        },
        {
          "output_type": "stream",
          "name": "stderr",
          "text": []
        },
        {
          "output_type": "stream",
          "name": "stdout",
          "text": [
            "Moviepy - Done !\n",
            "Moviepy - video ready /content/videos/rl-video-episode-35.mp4\n",
            "Moviepy - Building video /content/videos/rl-video-episode-36.mp4.\n",
            "Moviepy - Writing video /content/videos/rl-video-episode-36.mp4\n",
            "\n"
          ]
        },
        {
          "output_type": "stream",
          "name": "stderr",
          "text": []
        },
        {
          "output_type": "stream",
          "name": "stdout",
          "text": [
            "Moviepy - Done !\n",
            "Moviepy - video ready /content/videos/rl-video-episode-36.mp4\n",
            "Moviepy - Building video /content/videos/rl-video-episode-37.mp4.\n",
            "Moviepy - Writing video /content/videos/rl-video-episode-37.mp4\n",
            "\n"
          ]
        },
        {
          "output_type": "stream",
          "name": "stderr",
          "text": []
        },
        {
          "output_type": "stream",
          "name": "stdout",
          "text": [
            "Moviepy - Done !\n",
            "Moviepy - video ready /content/videos/rl-video-episode-37.mp4\n",
            "Moviepy - Building video /content/videos/rl-video-episode-38.mp4.\n",
            "Moviepy - Writing video /content/videos/rl-video-episode-38.mp4\n",
            "\n"
          ]
        },
        {
          "output_type": "stream",
          "name": "stderr",
          "text": []
        },
        {
          "output_type": "stream",
          "name": "stdout",
          "text": [
            "Moviepy - Done !\n",
            "Moviepy - video ready /content/videos/rl-video-episode-38.mp4\n",
            "Moviepy - Building video /content/videos/rl-video-episode-39.mp4.\n",
            "Moviepy - Writing video /content/videos/rl-video-episode-39.mp4\n",
            "\n"
          ]
        },
        {
          "output_type": "stream",
          "name": "stderr",
          "text": []
        },
        {
          "output_type": "stream",
          "name": "stdout",
          "text": [
            "Moviepy - Done !\n",
            "Moviepy - video ready /content/videos/rl-video-episode-39.mp4\n",
            "Moviepy - Building video /content/videos/rl-video-episode-40.mp4.\n",
            "Moviepy - Writing video /content/videos/rl-video-episode-40.mp4\n",
            "\n"
          ]
        },
        {
          "output_type": "stream",
          "name": "stderr",
          "text": []
        },
        {
          "output_type": "stream",
          "name": "stdout",
          "text": [
            "Moviepy - Done !\n",
            "Moviepy - video ready /content/videos/rl-video-episode-40.mp4\n",
            "Moviepy - Building video /content/videos/rl-video-episode-41.mp4.\n",
            "Moviepy - Writing video /content/videos/rl-video-episode-41.mp4\n",
            "\n"
          ]
        },
        {
          "output_type": "stream",
          "name": "stderr",
          "text": []
        },
        {
          "output_type": "stream",
          "name": "stdout",
          "text": [
            "Moviepy - Done !\n",
            "Moviepy - video ready /content/videos/rl-video-episode-41.mp4\n",
            "Moviepy - Building video /content/videos/rl-video-episode-42.mp4.\n",
            "Moviepy - Writing video /content/videos/rl-video-episode-42.mp4\n",
            "\n"
          ]
        },
        {
          "output_type": "stream",
          "name": "stderr",
          "text": []
        },
        {
          "output_type": "stream",
          "name": "stdout",
          "text": [
            "Moviepy - Done !\n",
            "Moviepy - video ready /content/videos/rl-video-episode-42.mp4\n",
            "Moviepy - Building video /content/videos/rl-video-episode-43.mp4.\n",
            "Moviepy - Writing video /content/videos/rl-video-episode-43.mp4\n",
            "\n"
          ]
        },
        {
          "output_type": "stream",
          "name": "stderr",
          "text": []
        },
        {
          "output_type": "stream",
          "name": "stdout",
          "text": [
            "Moviepy - Done !\n",
            "Moviepy - video ready /content/videos/rl-video-episode-43.mp4\n",
            "Moviepy - Building video /content/videos/rl-video-episode-44.mp4.\n",
            "Moviepy - Writing video /content/videos/rl-video-episode-44.mp4\n",
            "\n"
          ]
        },
        {
          "output_type": "stream",
          "name": "stderr",
          "text": []
        },
        {
          "output_type": "stream",
          "name": "stdout",
          "text": [
            "Moviepy - Done !\n",
            "Moviepy - video ready /content/videos/rl-video-episode-44.mp4\n",
            "Moviepy - Building video /content/videos/rl-video-episode-45.mp4.\n",
            "Moviepy - Writing video /content/videos/rl-video-episode-45.mp4\n",
            "\n"
          ]
        },
        {
          "output_type": "stream",
          "name": "stderr",
          "text": []
        },
        {
          "output_type": "stream",
          "name": "stdout",
          "text": [
            "Moviepy - Done !\n",
            "Moviepy - video ready /content/videos/rl-video-episode-45.mp4\n",
            "Moviepy - Building video /content/videos/rl-video-episode-46.mp4.\n",
            "Moviepy - Writing video /content/videos/rl-video-episode-46.mp4\n",
            "\n"
          ]
        },
        {
          "output_type": "stream",
          "name": "stderr",
          "text": []
        },
        {
          "output_type": "stream",
          "name": "stdout",
          "text": [
            "Moviepy - Done !\n",
            "Moviepy - video ready /content/videos/rl-video-episode-46.mp4\n",
            "Moviepy - Building video /content/videos/rl-video-episode-47.mp4.\n",
            "Moviepy - Writing video /content/videos/rl-video-episode-47.mp4\n",
            "\n"
          ]
        },
        {
          "output_type": "stream",
          "name": "stderr",
          "text": []
        },
        {
          "output_type": "stream",
          "name": "stdout",
          "text": [
            "Moviepy - Done !\n",
            "Moviepy - video ready /content/videos/rl-video-episode-47.mp4\n",
            "Moviepy - Building video /content/videos/rl-video-episode-48.mp4.\n",
            "Moviepy - Writing video /content/videos/rl-video-episode-48.mp4\n",
            "\n"
          ]
        },
        {
          "output_type": "stream",
          "name": "stderr",
          "text": []
        },
        {
          "output_type": "stream",
          "name": "stdout",
          "text": [
            "Moviepy - Done !\n",
            "Moviepy - video ready /content/videos/rl-video-episode-48.mp4\n",
            "Moviepy - Building video /content/videos/rl-video-episode-49.mp4.\n",
            "Moviepy - Writing video /content/videos/rl-video-episode-49.mp4\n",
            "\n"
          ]
        },
        {
          "output_type": "stream",
          "name": "stderr",
          "text": []
        },
        {
          "output_type": "stream",
          "name": "stdout",
          "text": [
            "Moviepy - Done !\n",
            "Moviepy - video ready /content/videos/rl-video-episode-49.mp4\n",
            "Moviepy - Building video /content/videos/rl-video-episode-50.mp4.\n",
            "Moviepy - Writing video /content/videos/rl-video-episode-50.mp4\n",
            "\n"
          ]
        },
        {
          "output_type": "stream",
          "name": "stderr",
          "text": []
        },
        {
          "output_type": "stream",
          "name": "stdout",
          "text": [
            "Moviepy - Done !\n",
            "Moviepy - video ready /content/videos/rl-video-episode-50.mp4\n",
            "Moviepy - Building video /content/videos/rl-video-episode-51.mp4.\n",
            "Moviepy - Writing video /content/videos/rl-video-episode-51.mp4\n",
            "\n"
          ]
        },
        {
          "output_type": "stream",
          "name": "stderr",
          "text": []
        },
        {
          "output_type": "stream",
          "name": "stdout",
          "text": [
            "Moviepy - Done !\n",
            "Moviepy - video ready /content/videos/rl-video-episode-51.mp4\n",
            "Moviepy - Building video /content/videos/rl-video-episode-52.mp4.\n",
            "Moviepy - Writing video /content/videos/rl-video-episode-52.mp4\n",
            "\n"
          ]
        },
        {
          "output_type": "stream",
          "name": "stderr",
          "text": []
        },
        {
          "output_type": "stream",
          "name": "stdout",
          "text": [
            "Moviepy - Done !\n",
            "Moviepy - video ready /content/videos/rl-video-episode-52.mp4\n",
            "Moviepy - Building video /content/videos/rl-video-episode-53.mp4.\n",
            "Moviepy - Writing video /content/videos/rl-video-episode-53.mp4\n",
            "\n"
          ]
        },
        {
          "output_type": "stream",
          "name": "stderr",
          "text": []
        },
        {
          "output_type": "stream",
          "name": "stdout",
          "text": [
            "Moviepy - Done !\n",
            "Moviepy - video ready /content/videos/rl-video-episode-53.mp4\n",
            "Moviepy - Building video /content/videos/rl-video-episode-54.mp4.\n",
            "Moviepy - Writing video /content/videos/rl-video-episode-54.mp4\n",
            "\n"
          ]
        },
        {
          "output_type": "stream",
          "name": "stderr",
          "text": []
        },
        {
          "output_type": "stream",
          "name": "stdout",
          "text": [
            "Moviepy - Done !\n",
            "Moviepy - video ready /content/videos/rl-video-episode-54.mp4\n",
            "Moviepy - Building video /content/videos/rl-video-episode-55.mp4.\n",
            "Moviepy - Writing video /content/videos/rl-video-episode-55.mp4\n",
            "\n"
          ]
        },
        {
          "output_type": "stream",
          "name": "stderr",
          "text": []
        },
        {
          "output_type": "stream",
          "name": "stdout",
          "text": [
            "Moviepy - Done !\n",
            "Moviepy - video ready /content/videos/rl-video-episode-55.mp4\n",
            "Moviepy - Building video /content/videos/rl-video-episode-56.mp4.\n",
            "Moviepy - Writing video /content/videos/rl-video-episode-56.mp4\n",
            "\n"
          ]
        },
        {
          "output_type": "stream",
          "name": "stderr",
          "text": []
        },
        {
          "output_type": "stream",
          "name": "stdout",
          "text": [
            "Moviepy - Done !\n",
            "Moviepy - video ready /content/videos/rl-video-episode-56.mp4\n",
            "Moviepy - Building video /content/videos/rl-video-episode-57.mp4.\n",
            "Moviepy - Writing video /content/videos/rl-video-episode-57.mp4\n",
            "\n"
          ]
        },
        {
          "output_type": "stream",
          "name": "stderr",
          "text": []
        },
        {
          "output_type": "stream",
          "name": "stdout",
          "text": [
            "Moviepy - Done !\n",
            "Moviepy - video ready /content/videos/rl-video-episode-57.mp4\n",
            "Moviepy - Building video /content/videos/rl-video-episode-58.mp4.\n",
            "Moviepy - Writing video /content/videos/rl-video-episode-58.mp4\n",
            "\n"
          ]
        },
        {
          "output_type": "stream",
          "name": "stderr",
          "text": []
        },
        {
          "output_type": "stream",
          "name": "stdout",
          "text": [
            "Moviepy - Done !\n",
            "Moviepy - video ready /content/videos/rl-video-episode-58.mp4\n",
            "Moviepy - Building video /content/videos/rl-video-episode-59.mp4.\n",
            "Moviepy - Writing video /content/videos/rl-video-episode-59.mp4\n",
            "\n"
          ]
        },
        {
          "output_type": "stream",
          "name": "stderr",
          "text": []
        },
        {
          "output_type": "stream",
          "name": "stdout",
          "text": [
            "Moviepy - Done !\n",
            "Moviepy - video ready /content/videos/rl-video-episode-59.mp4\n",
            "Moviepy - Building video /content/videos/rl-video-episode-60.mp4.\n",
            "Moviepy - Writing video /content/videos/rl-video-episode-60.mp4\n",
            "\n"
          ]
        },
        {
          "output_type": "stream",
          "name": "stderr",
          "text": []
        },
        {
          "output_type": "stream",
          "name": "stdout",
          "text": [
            "Moviepy - Done !\n",
            "Moviepy - video ready /content/videos/rl-video-episode-60.mp4\n",
            "Moviepy - Building video /content/videos/rl-video-episode-61.mp4.\n",
            "Moviepy - Writing video /content/videos/rl-video-episode-61.mp4\n",
            "\n"
          ]
        },
        {
          "output_type": "stream",
          "name": "stderr",
          "text": []
        },
        {
          "output_type": "stream",
          "name": "stdout",
          "text": [
            "Moviepy - Done !\n",
            "Moviepy - video ready /content/videos/rl-video-episode-61.mp4\n",
            "Moviepy - Building video /content/videos/rl-video-episode-62.mp4.\n",
            "Moviepy - Writing video /content/videos/rl-video-episode-62.mp4\n",
            "\n"
          ]
        },
        {
          "output_type": "stream",
          "name": "stderr",
          "text": []
        },
        {
          "output_type": "stream",
          "name": "stdout",
          "text": [
            "Moviepy - Done !\n",
            "Moviepy - video ready /content/videos/rl-video-episode-62.mp4\n",
            "Moviepy - Building video /content/videos/rl-video-episode-63.mp4.\n",
            "Moviepy - Writing video /content/videos/rl-video-episode-63.mp4\n",
            "\n"
          ]
        },
        {
          "output_type": "stream",
          "name": "stderr",
          "text": []
        },
        {
          "output_type": "stream",
          "name": "stdout",
          "text": [
            "Moviepy - Done !\n",
            "Moviepy - video ready /content/videos/rl-video-episode-63.mp4\n",
            "Moviepy - Building video /content/videos/rl-video-episode-64.mp4.\n",
            "Moviepy - Writing video /content/videos/rl-video-episode-64.mp4\n",
            "\n"
          ]
        },
        {
          "output_type": "stream",
          "name": "stderr",
          "text": []
        },
        {
          "output_type": "stream",
          "name": "stdout",
          "text": [
            "Moviepy - Done !\n",
            "Moviepy - video ready /content/videos/rl-video-episode-64.mp4\n",
            "Moviepy - Building video /content/videos/rl-video-episode-65.mp4.\n",
            "Moviepy - Writing video /content/videos/rl-video-episode-65.mp4\n",
            "\n"
          ]
        },
        {
          "output_type": "stream",
          "name": "stderr",
          "text": []
        },
        {
          "output_type": "stream",
          "name": "stdout",
          "text": [
            "Moviepy - Done !\n",
            "Moviepy - video ready /content/videos/rl-video-episode-65.mp4\n",
            "Moviepy - Building video /content/videos/rl-video-episode-66.mp4.\n",
            "Moviepy - Writing video /content/videos/rl-video-episode-66.mp4\n",
            "\n"
          ]
        },
        {
          "output_type": "stream",
          "name": "stderr",
          "text": []
        },
        {
          "output_type": "stream",
          "name": "stdout",
          "text": [
            "Moviepy - Done !\n",
            "Moviepy - video ready /content/videos/rl-video-episode-66.mp4\n",
            "Moviepy - Building video /content/videos/rl-video-episode-67.mp4.\n",
            "Moviepy - Writing video /content/videos/rl-video-episode-67.mp4\n",
            "\n"
          ]
        },
        {
          "output_type": "stream",
          "name": "stderr",
          "text": []
        },
        {
          "output_type": "stream",
          "name": "stdout",
          "text": [
            "Moviepy - Done !\n",
            "Moviepy - video ready /content/videos/rl-video-episode-67.mp4\n",
            "Moviepy - Building video /content/videos/rl-video-episode-68.mp4.\n",
            "Moviepy - Writing video /content/videos/rl-video-episode-68.mp4\n",
            "\n"
          ]
        },
        {
          "output_type": "stream",
          "name": "stderr",
          "text": []
        },
        {
          "output_type": "stream",
          "name": "stdout",
          "text": [
            "Moviepy - Done !\n",
            "Moviepy - video ready /content/videos/rl-video-episode-68.mp4\n",
            "Moviepy - Building video /content/videos/rl-video-episode-69.mp4.\n",
            "Moviepy - Writing video /content/videos/rl-video-episode-69.mp4\n",
            "\n"
          ]
        },
        {
          "output_type": "stream",
          "name": "stderr",
          "text": []
        },
        {
          "output_type": "stream",
          "name": "stdout",
          "text": [
            "Moviepy - Done !\n",
            "Moviepy - video ready /content/videos/rl-video-episode-69.mp4\n",
            "Moviepy - Building video /content/videos/rl-video-episode-70.mp4.\n",
            "Moviepy - Writing video /content/videos/rl-video-episode-70.mp4\n",
            "\n"
          ]
        },
        {
          "output_type": "stream",
          "name": "stderr",
          "text": []
        },
        {
          "output_type": "stream",
          "name": "stdout",
          "text": [
            "Moviepy - Done !\n",
            "Moviepy - video ready /content/videos/rl-video-episode-70.mp4\n",
            "Moviepy - Building video /content/videos/rl-video-episode-71.mp4.\n",
            "Moviepy - Writing video /content/videos/rl-video-episode-71.mp4\n",
            "\n"
          ]
        },
        {
          "output_type": "stream",
          "name": "stderr",
          "text": []
        },
        {
          "output_type": "stream",
          "name": "stdout",
          "text": [
            "Moviepy - Done !\n",
            "Moviepy - video ready /content/videos/rl-video-episode-71.mp4\n",
            "Moviepy - Building video /content/videos/rl-video-episode-72.mp4.\n",
            "Moviepy - Writing video /content/videos/rl-video-episode-72.mp4\n",
            "\n"
          ]
        },
        {
          "output_type": "stream",
          "name": "stderr",
          "text": []
        },
        {
          "output_type": "stream",
          "name": "stdout",
          "text": [
            "Moviepy - Done !\n",
            "Moviepy - video ready /content/videos/rl-video-episode-72.mp4\n",
            "Moviepy - Building video /content/videos/rl-video-episode-73.mp4.\n",
            "Moviepy - Writing video /content/videos/rl-video-episode-73.mp4\n",
            "\n"
          ]
        },
        {
          "output_type": "stream",
          "name": "stderr",
          "text": []
        },
        {
          "output_type": "stream",
          "name": "stdout",
          "text": [
            "Moviepy - Done !\n",
            "Moviepy - video ready /content/videos/rl-video-episode-73.mp4\n",
            "Moviepy - Building video /content/videos/rl-video-episode-74.mp4.\n",
            "Moviepy - Writing video /content/videos/rl-video-episode-74.mp4\n",
            "\n"
          ]
        },
        {
          "output_type": "stream",
          "name": "stderr",
          "text": []
        },
        {
          "output_type": "stream",
          "name": "stdout",
          "text": [
            "Moviepy - Done !\n",
            "Moviepy - video ready /content/videos/rl-video-episode-74.mp4\n",
            "Moviepy - Building video /content/videos/rl-video-episode-75.mp4.\n",
            "Moviepy - Writing video /content/videos/rl-video-episode-75.mp4\n",
            "\n"
          ]
        },
        {
          "output_type": "stream",
          "name": "stderr",
          "text": []
        },
        {
          "output_type": "stream",
          "name": "stdout",
          "text": [
            "Moviepy - Done !\n",
            "Moviepy - video ready /content/videos/rl-video-episode-75.mp4\n",
            "Moviepy - Building video /content/videos/rl-video-episode-76.mp4.\n",
            "Moviepy - Writing video /content/videos/rl-video-episode-76.mp4\n",
            "\n"
          ]
        },
        {
          "output_type": "stream",
          "name": "stderr",
          "text": []
        },
        {
          "output_type": "stream",
          "name": "stdout",
          "text": [
            "Moviepy - Done !\n",
            "Moviepy - video ready /content/videos/rl-video-episode-76.mp4\n",
            "Moviepy - Building video /content/videos/rl-video-episode-77.mp4.\n",
            "Moviepy - Writing video /content/videos/rl-video-episode-77.mp4\n",
            "\n"
          ]
        },
        {
          "output_type": "stream",
          "name": "stderr",
          "text": []
        },
        {
          "output_type": "stream",
          "name": "stdout",
          "text": [
            "Moviepy - Done !\n",
            "Moviepy - video ready /content/videos/rl-video-episode-77.mp4\n",
            "Moviepy - Building video /content/videos/rl-video-episode-78.mp4.\n",
            "Moviepy - Writing video /content/videos/rl-video-episode-78.mp4\n",
            "\n"
          ]
        },
        {
          "output_type": "stream",
          "name": "stderr",
          "text": []
        },
        {
          "output_type": "stream",
          "name": "stdout",
          "text": [
            "Moviepy - Done !\n",
            "Moviepy - video ready /content/videos/rl-video-episode-78.mp4\n",
            "Moviepy - Building video /content/videos/rl-video-episode-79.mp4.\n",
            "Moviepy - Writing video /content/videos/rl-video-episode-79.mp4\n",
            "\n"
          ]
        },
        {
          "output_type": "stream",
          "name": "stderr",
          "text": []
        },
        {
          "output_type": "stream",
          "name": "stdout",
          "text": [
            "Moviepy - Done !\n",
            "Moviepy - video ready /content/videos/rl-video-episode-79.mp4\n",
            "Moviepy - Building video /content/videos/rl-video-episode-80.mp4.\n",
            "Moviepy - Writing video /content/videos/rl-video-episode-80.mp4\n",
            "\n"
          ]
        },
        {
          "output_type": "stream",
          "name": "stderr",
          "text": []
        },
        {
          "output_type": "stream",
          "name": "stdout",
          "text": [
            "Moviepy - Done !\n",
            "Moviepy - video ready /content/videos/rl-video-episode-80.mp4\n",
            "Moviepy - Building video /content/videos/rl-video-episode-81.mp4.\n",
            "Moviepy - Writing video /content/videos/rl-video-episode-81.mp4\n",
            "\n"
          ]
        },
        {
          "output_type": "stream",
          "name": "stderr",
          "text": []
        },
        {
          "output_type": "stream",
          "name": "stdout",
          "text": [
            "Moviepy - Done !\n",
            "Moviepy - video ready /content/videos/rl-video-episode-81.mp4\n",
            "Moviepy - Building video /content/videos/rl-video-episode-82.mp4.\n",
            "Moviepy - Writing video /content/videos/rl-video-episode-82.mp4\n",
            "\n"
          ]
        },
        {
          "output_type": "stream",
          "name": "stderr",
          "text": []
        },
        {
          "output_type": "stream",
          "name": "stdout",
          "text": [
            "Moviepy - Done !\n",
            "Moviepy - video ready /content/videos/rl-video-episode-82.mp4\n",
            "Moviepy - Building video /content/videos/rl-video-episode-83.mp4.\n",
            "Moviepy - Writing video /content/videos/rl-video-episode-83.mp4\n",
            "\n"
          ]
        },
        {
          "output_type": "stream",
          "name": "stderr",
          "text": []
        },
        {
          "output_type": "stream",
          "name": "stdout",
          "text": [
            "Moviepy - Done !\n",
            "Moviepy - video ready /content/videos/rl-video-episode-83.mp4\n",
            "Moviepy - Building video /content/videos/rl-video-episode-84.mp4.\n",
            "Moviepy - Writing video /content/videos/rl-video-episode-84.mp4\n",
            "\n"
          ]
        },
        {
          "output_type": "stream",
          "name": "stderr",
          "text": []
        },
        {
          "output_type": "stream",
          "name": "stdout",
          "text": [
            "Moviepy - Done !\n",
            "Moviepy - video ready /content/videos/rl-video-episode-84.mp4\n",
            "Moviepy - Building video /content/videos/rl-video-episode-85.mp4.\n",
            "Moviepy - Writing video /content/videos/rl-video-episode-85.mp4\n",
            "\n"
          ]
        },
        {
          "output_type": "stream",
          "name": "stderr",
          "text": []
        },
        {
          "output_type": "stream",
          "name": "stdout",
          "text": [
            "Moviepy - Done !\n",
            "Moviepy - video ready /content/videos/rl-video-episode-85.mp4\n",
            "Moviepy - Building video /content/videos/rl-video-episode-86.mp4.\n",
            "Moviepy - Writing video /content/videos/rl-video-episode-86.mp4\n",
            "\n"
          ]
        },
        {
          "output_type": "stream",
          "name": "stderr",
          "text": []
        },
        {
          "output_type": "stream",
          "name": "stdout",
          "text": [
            "Moviepy - Done !\n",
            "Moviepy - video ready /content/videos/rl-video-episode-86.mp4\n",
            "Moviepy - Building video /content/videos/rl-video-episode-87.mp4.\n",
            "Moviepy - Writing video /content/videos/rl-video-episode-87.mp4\n",
            "\n"
          ]
        },
        {
          "output_type": "stream",
          "name": "stderr",
          "text": []
        },
        {
          "output_type": "stream",
          "name": "stdout",
          "text": [
            "Moviepy - Done !\n",
            "Moviepy - video ready /content/videos/rl-video-episode-87.mp4\n",
            "Moviepy - Building video /content/videos/rl-video-episode-88.mp4.\n",
            "Moviepy - Writing video /content/videos/rl-video-episode-88.mp4\n",
            "\n"
          ]
        },
        {
          "output_type": "stream",
          "name": "stderr",
          "text": []
        },
        {
          "output_type": "stream",
          "name": "stdout",
          "text": [
            "Moviepy - Done !\n",
            "Moviepy - video ready /content/videos/rl-video-episode-88.mp4\n",
            "Moviepy - Building video /content/videos/rl-video-episode-89.mp4.\n",
            "Moviepy - Writing video /content/videos/rl-video-episode-89.mp4\n",
            "\n"
          ]
        },
        {
          "output_type": "stream",
          "name": "stderr",
          "text": []
        },
        {
          "output_type": "stream",
          "name": "stdout",
          "text": [
            "Moviepy - Done !\n",
            "Moviepy - video ready /content/videos/rl-video-episode-89.mp4\n",
            "Moviepy - Building video /content/videos/rl-video-episode-90.mp4.\n",
            "Moviepy - Writing video /content/videos/rl-video-episode-90.mp4\n",
            "\n"
          ]
        },
        {
          "output_type": "stream",
          "name": "stderr",
          "text": []
        },
        {
          "output_type": "stream",
          "name": "stdout",
          "text": [
            "Moviepy - Done !\n",
            "Moviepy - video ready /content/videos/rl-video-episode-90.mp4\n",
            "Moviepy - Building video /content/videos/rl-video-episode-91.mp4.\n",
            "Moviepy - Writing video /content/videos/rl-video-episode-91.mp4\n",
            "\n"
          ]
        },
        {
          "output_type": "stream",
          "name": "stderr",
          "text": []
        },
        {
          "output_type": "stream",
          "name": "stdout",
          "text": [
            "Moviepy - Done !\n",
            "Moviepy - video ready /content/videos/rl-video-episode-91.mp4\n",
            "Moviepy - Building video /content/videos/rl-video-episode-92.mp4.\n",
            "Moviepy - Writing video /content/videos/rl-video-episode-92.mp4\n",
            "\n"
          ]
        },
        {
          "output_type": "stream",
          "name": "stderr",
          "text": []
        },
        {
          "output_type": "stream",
          "name": "stdout",
          "text": [
            "Moviepy - Done !\n",
            "Moviepy - video ready /content/videos/rl-video-episode-92.mp4\n",
            "Moviepy - Building video /content/videos/rl-video-episode-93.mp4.\n",
            "Moviepy - Writing video /content/videos/rl-video-episode-93.mp4\n",
            "\n"
          ]
        },
        {
          "output_type": "stream",
          "name": "stderr",
          "text": []
        },
        {
          "output_type": "stream",
          "name": "stdout",
          "text": [
            "Moviepy - Done !\n",
            "Moviepy - video ready /content/videos/rl-video-episode-93.mp4\n",
            "Moviepy - Building video /content/videos/rl-video-episode-94.mp4.\n",
            "Moviepy - Writing video /content/videos/rl-video-episode-94.mp4\n",
            "\n"
          ]
        },
        {
          "output_type": "stream",
          "name": "stderr",
          "text": []
        },
        {
          "output_type": "stream",
          "name": "stdout",
          "text": [
            "Moviepy - Done !\n",
            "Moviepy - video ready /content/videos/rl-video-episode-94.mp4\n",
            "Moviepy - Building video /content/videos/rl-video-episode-95.mp4.\n",
            "Moviepy - Writing video /content/videos/rl-video-episode-95.mp4\n",
            "\n"
          ]
        },
        {
          "output_type": "stream",
          "name": "stderr",
          "text": []
        },
        {
          "output_type": "stream",
          "name": "stdout",
          "text": [
            "Moviepy - Done !\n",
            "Moviepy - video ready /content/videos/rl-video-episode-95.mp4\n",
            "Moviepy - Building video /content/videos/rl-video-episode-96.mp4.\n",
            "Moviepy - Writing video /content/videos/rl-video-episode-96.mp4\n",
            "\n"
          ]
        },
        {
          "output_type": "stream",
          "name": "stderr",
          "text": []
        },
        {
          "output_type": "stream",
          "name": "stdout",
          "text": [
            "Moviepy - Done !\n",
            "Moviepy - video ready /content/videos/rl-video-episode-96.mp4\n",
            "Moviepy - Building video /content/videos/rl-video-episode-97.mp4.\n",
            "Moviepy - Writing video /content/videos/rl-video-episode-97.mp4\n",
            "\n"
          ]
        },
        {
          "output_type": "stream",
          "name": "stderr",
          "text": []
        },
        {
          "output_type": "stream",
          "name": "stdout",
          "text": [
            "Moviepy - Done !\n",
            "Moviepy - video ready /content/videos/rl-video-episode-97.mp4\n",
            "Moviepy - Building video /content/videos/rl-video-episode-98.mp4.\n",
            "Moviepy - Writing video /content/videos/rl-video-episode-98.mp4\n",
            "\n"
          ]
        },
        {
          "output_type": "stream",
          "name": "stderr",
          "text": []
        },
        {
          "output_type": "stream",
          "name": "stdout",
          "text": [
            "Moviepy - Done !\n",
            "Moviepy - video ready /content/videos/rl-video-episode-98.mp4\n",
            "Moviepy - Building video /content/videos/rl-video-episode-99.mp4.\n",
            "Moviepy - Writing video /content/videos/rl-video-episode-99.mp4\n",
            "\n"
          ]
        },
        {
          "output_type": "stream",
          "name": "stderr",
          "text": []
        },
        {
          "output_type": "stream",
          "name": "stdout",
          "text": [
            "Moviepy - Done !\n",
            "Moviepy - video ready /content/videos/rl-video-episode-99.mp4\n"
          ]
        }
      ],
      "source": [
        "# Record sessions\n",
        "\n",
        "from gymnasium.wrappers import RecordVideo\n",
        "\n",
        "with RecordVideo(\n",
        "    env=gym.make(\"CartPole-v0\", render_mode=\"rgb_array\"),\n",
        "    video_folder=\"./videos\",\n",
        "    episode_trigger=lambda episode_number: True,\n",
        ") as env_monitor:\n",
        "    sessions = [generate_session(env_monitor, agent) for _ in range(100)]\n"
      ]
    },
    {
      "cell_type": "code",
      "execution_count": null,
      "metadata": {
        "id": "kLPXdME7G9zN",
        "colab": {
          "base_uri": "https://localhost:8080/",
          "height": 501
        },
        "outputId": "d199646a-67d4-4a38-8b55-8fd9d11a87b6"
      },
      "outputs": [
        {
          "output_type": "execute_result",
          "data": {
            "text/plain": [
              "<IPython.core.display.HTML object>"
            ],
            "text/html": [
              "\n",
              "<video width=\"640\" height=\"480\" controls>\n",
              "  <source src=\"data:video/mp4;base64,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\" type=\"video/mp4\">\n",
              "</video>\n"
            ]
          },
          "metadata": {},
          "execution_count": 11
        }
      ],
      "source": [
        "# Show video. This may not work in some setups. If it doesn't\n",
        "# work for you, you can download the videos and view them locally.\n",
        "\n",
        "from pathlib import Path\n",
        "from base64 import b64encode\n",
        "from IPython.display import HTML\n",
        "\n",
        "video_paths = sorted([s for s in Path(\"videos\").iterdir() if s.suffix == \".mp4\"])\n",
        "video_path = video_paths[-1]  # You can also try other indices\n",
        "\n",
        "if \"google.colab\" in sys.modules:\n",
        "    # https://stackoverflow.com/a/57378660/1214547\n",
        "    with video_path.open(\"rb\") as fp:\n",
        "        mp4 = fp.read()\n",
        "    data_url = \"data:video/mp4;base64,\" + b64encode(mp4).decode()\n",
        "else:\n",
        "    data_url = str(video_path)\n",
        "\n",
        "HTML(\n",
        "    \"\"\"\n",
        "<video width=\"640\" height=\"480\" controls>\n",
        "  <source src=\"{}\" type=\"video/mp4\">\n",
        "</video>\n",
        "\"\"\".format(\n",
        "        data_url\n",
        "    )\n",
        ")\n"
      ]
    },
    {
      "cell_type": "markdown",
      "metadata": {
        "id": "6d_3oOQ1G9zN"
      },
      "source": [
        "# Homework part I\n",
        "\n",
        "### Tabular crossentropy method\n",
        "\n",
        "You may have noticed that the taxi problem quickly converges from -100 to a near-optimal score and then descends back into -50/-100. This is in part because the environment has some innate randomness. Namely, the starting points of passenger/driver change from episode to episode.\n",
        "\n",
        "### Tasks\n",
        "- __1.1__ (2 pts) Find out how the algorithm performance changes if you use a different `percentile` and/or `n_sessions`. Provide here some figures so we can see how the hyperparameters influence the performance.\n",
        "- __1.2__ (1 pts) Tune the algorithm to end up with positive average score.\n",
        "\n",
        "It's okay to modify the existing code.\n"
      ]
    },
    {
      "cell_type": "markdown",
      "metadata": {
        "id": "L88LySiVG9zN"
      },
      "source": [
        "#**MY SOLUTION**"
      ]
    },
    {
      "cell_type": "code",
      "source": [
        "import sys, os\n",
        "if 'google.colab' in sys.modules and not os.path.exists('.setup_complete'):\n",
        "    !wget -q https://raw.githubusercontent.com/yandexdataschool/Practical_RL/master/setup_colab.sh -O- | bash\n",
        "    !touch .setup_complete\n",
        "\n",
        "# This code creates a virtual display to draw game images on.\n",
        "# It will have no effect if your machine has a monitor.\n",
        "if type(os.environ.get(\"DISPLAY\")) is not str or len(os.environ.get(\"DISPLAY\")) == 0:\n",
        "    !bash ../xvfb start\n",
        "    os.environ['DISPLAY'] = ':1'"
      ],
      "metadata": {
        "id": "nYEt0HCZ1hVS"
      },
      "execution_count": null,
      "outputs": []
    },
    {
      "cell_type": "code",
      "source": [
        "import gym\n",
        "import numpy as np\n",
        "\n",
        "env = gym.make(\"Taxi-v3\")\n",
        "env.reset()\n",
        "\n",
        "n_states = env.observation_space.n\n",
        "n_actions = env.action_space.n\n",
        "\n",
        "print(\"n_states=%i, n_actions=%i\" % (n_states, n_actions))"
      ],
      "metadata": {
        "colab": {
          "base_uri": "https://localhost:8080/"
        },
        "id": "B1JXHDmE147I",
        "outputId": "e462f8bd-8e24-481f-b380-8ee65b251179"
      },
      "execution_count": null,
      "outputs": [
        {
          "output_type": "stream",
          "name": "stdout",
          "text": [
            "n_states=500, n_actions=6\n"
          ]
        },
        {
          "output_type": "stream",
          "name": "stderr",
          "text": [
            "/usr/local/lib/python3.10/dist-packages/gym/core.py:317: DeprecationWarning: \u001b[33mWARN: Initializing wrapper in old step API which returns one bool instead of two. It is recommended to set `new_step_api=True` to use new step API. This will be the default behaviour in future.\u001b[0m\n",
            "  deprecation(\n",
            "/usr/local/lib/python3.10/dist-packages/gym/wrappers/step_api_compatibility.py:39: DeprecationWarning: \u001b[33mWARN: Initializing environment in old step API which returns one bool instead of two. It is recommended to set `new_step_api=True` to use new step API. This will be the default behaviour in future.\u001b[0m\n",
            "  deprecation(\n"
          ]
        }
      ]
    },
    {
      "cell_type": "code",
      "source": [
        "def generate_session(env, policy, t_max=10**4):\n",
        "    \"\"\"\n",
        "    Play game until end or for t_max ticks.\n",
        "    :param policy: an array of shape [n_states,n_actions] with action probabilities\n",
        "    :returns: list of states, list of actions and sum of rewards\n",
        "    \"\"\"\n",
        "    states, actions = [], []\n",
        "    total_reward = 0.\n",
        "\n",
        "    s = env.reset()\n",
        "\n",
        "    for t in range(t_max):\n",
        "        a = np.random.choice(np.arange(n_actions), p = policy[s])\n",
        "\n",
        "        new_s, r, done, info = env.step(a)\n",
        "        states.append(s)\n",
        "        actions.append(a)\n",
        "        total_reward += r\n",
        "\n",
        "        s = new_s\n",
        "        if done:\n",
        "            break\n",
        "\n",
        "    return states, actions, total_reward"
      ],
      "metadata": {
        "id": "ykX-93K8170B"
      },
      "execution_count": null,
      "outputs": []
    },
    {
      "cell_type": "code",
      "source": [
        "def select_elites(states_batch, actions_batch, rewards_batch, percentile):\n",
        "    \"\"\"\n",
        "    Select states and actions from games that have rewards >= percentile\n",
        "    :param states_batch: list of lists of states, states_batch[session_i][t]\n",
        "    :param actions_batch: list of lists of actions, actions_batch[session_i][t]\n",
        "    :param rewards_batch: list of rewards, rewards_batch[session_i]\n",
        "\n",
        "    :returns: elite_states,elite_actions, both 1D lists of states and respective actions from elite sessions\n",
        "\n",
        "    Please return elite states and actions in their original order\n",
        "    [i.e. sorted by session number and timestep within session]\n",
        "\n",
        "    If you are confused, see examples below. Please don't assume that states are integers\n",
        "    (they will become different later).\n",
        "    \"\"\"\n",
        "\n",
        "    reward_threshold = np.percentile(rewards_batch, percentile)\n",
        "\n",
        "    elite_states = []\n",
        "    elite_actions = []\n",
        "    for i, r in enumerate(rewards_batch):\n",
        "        if r >= reward_threshold:\n",
        "            elite_states.extend(states_batch[i])\n",
        "            elite_actions.extend(actions_batch[i])\n",
        "    return elite_states, elite_actions"
      ],
      "metadata": {
        "id": "B2vxV5oV2lki"
      },
      "execution_count": null,
      "outputs": []
    },
    {
      "cell_type": "code",
      "source": [
        "def initialize_policy(n_states, n_actions):\n",
        "    policy = np.ones((n_states, n_actions)) / n_actions\n",
        "    return policy\n",
        "\n",
        "\n",
        "def get_new_policy(elite_states, elite_actions):\n",
        "    \"\"\"\n",
        "    Given a list of elite states/actions from select_elites,\n",
        "    return a new policy where each action probability is proportional to\n",
        "\n",
        "        policy[s_i,a_i] ~ #[occurrences of s_i and a_i in elite states/actions]\n",
        "\n",
        "    Don't forget to normalize the policy to get valid probabilities and handle the 0/0 case.\n",
        "    For states that you never visited, use a uniform distribution (1/n_actions for all states).\n",
        "\n",
        "    :param elite_states: 1D list of states from elite sessions\n",
        "    :param elite_actions: 1D list of actions from elite sessions\n",
        "\n",
        "    \"\"\"\n",
        "\n",
        "    new_policy = np.zeros([n_states, n_actions])\n",
        "\n",
        "    for s, a in zip(elite_states, elite_actions):\n",
        "        new_policy[s, a] += 1\n",
        "\n",
        "    new_policy[new_policy.sum(axis = 1) == 0] = 1\n",
        "    new_policy = new_policy / new_policy.sum(axis = 1, keepdims = True)\n",
        "\n",
        "    # Don't forget to set 1/n_actions for all actions in unvisited states.\n",
        "\n",
        "    return new_policy"
      ],
      "metadata": {
        "id": "REOnj7m42pgZ"
      },
      "execution_count": null,
      "outputs": []
    },
    {
      "cell_type": "code",
      "source": [
        "from tqdm import tqdm\n",
        "\n",
        "\n",
        "def training_loop(n_sessions, percentile, n_epochs = 30):\n",
        "    learning_rate = 0.5  # how quickly the policy is updated, on a scale from 0 to 1\n",
        "\n",
        "    policy = initialize_policy(n_states, n_actions)\n",
        "\n",
        "    log = []\n",
        "\n",
        "    mean_rewards = []\n",
        "\n",
        "    for i in tqdm(range(n_epochs)):\n",
        "        sessions = [generate_session(env, policy) for _ in range(n_sessions)]\n",
        "\n",
        "        states_batch, actions_batch, rewards_batch = zip(*sessions)\n",
        "\n",
        "        elite_states, elite_actions = select_elites(states_batch, actions_batch, rewards_batch, percentile)\n",
        "\n",
        "        new_policy = get_new_policy(elite_states, elite_actions)\n",
        "\n",
        "        policy = learning_rate * new_policy + (1 - learning_rate) * policy\n",
        "\n",
        "        mean_rewards.append(np.mean(rewards_batch))\n",
        "    return mean_rewards"
      ],
      "metadata": {
        "id": "9KPNyh0T2rZY"
      },
      "execution_count": null,
      "outputs": []
    },
    {
      "cell_type": "code",
      "source": [
        "import matplotlib.pyplot as plt\n",
        "\n",
        "def visualize(mean_rewards, labels, title, reward_range=[-990, +10]):\n",
        "    plt.figure(figsize=[10, 8])\n",
        "    plt.subplot(1, 1, 1)\n",
        "    plt.title(title, fontsize = 18)\n",
        "    plt.ylabel(\"Reward\", fontsize = 14)\n",
        "    plt.xlabel(\"n_epochs\", fontsize = 14)\n",
        "\n",
        "    for reward, label in zip(mean_rewards, labels):\n",
        "        plt.plot(reward, label=label)\n",
        "    plt.legend()\n",
        "    plt.grid()\n",
        "    plt.show()"
      ],
      "metadata": {
        "colab": {
          "base_uri": "https://localhost:8080/"
        },
        "id": "JpTZo96P2vLR",
        "outputId": "1c7c26cb-946a-4edc-b6a7-d0f0a898b2c7"
      },
      "execution_count": null,
      "outputs": [
        {
          "output_type": "stream",
          "name": "stderr",
          "text": [
            "/usr/local/lib/python3.10/dist-packages/ipykernel/ipkernel.py:283: DeprecationWarning: `should_run_async` will not call `transform_cell` automatically in the future. Please pass the result to `transformed_cell` argument and any exception that happen during thetransform in `preprocessing_exc_tuple` in IPython 7.17 and above.\n",
            "  and should_run_async(code)\n"
          ]
        }
      ]
    },
    {
      "cell_type": "code",
      "source": [
        "n_sessions = 250\n",
        "percentile = 50\n",
        "\n",
        "rewards_all = []\n",
        "labels = []\n",
        "for n_sessions in [50, 100, 250, 500, 1000]:\n",
        "    rewards = training_loop(n_sessions, percentile)\n",
        "    rewards_all.append(rewards)\n",
        "    labels.append(f\"n_sessions = {n_sessions}\")"
      ],
      "metadata": {
        "colab": {
          "base_uri": "https://localhost:8080/"
        },
        "id": "TH1MMVN029aA",
        "outputId": "7df5397a-df27-459a-d374-3f4faea5ac6d"
      },
      "execution_count": null,
      "outputs": [
        {
          "output_type": "stream",
          "name": "stderr",
          "text": [
            "100%|██████████| 30/30 [00:16<00:00,  1.86it/s]\n",
            "100%|██████████| 30/30 [00:21<00:00,  1.40it/s]\n",
            "100%|██████████| 30/30 [00:48<00:00,  1.62s/it]\n",
            "100%|██████████| 30/30 [01:47<00:00,  3.58s/it]\n",
            "100%|██████████| 30/30 [04:11<00:00,  8.39s/it]\n"
          ]
        }
      ]
    },
    {
      "cell_type": "code",
      "source": [
        "visualize(rewards_all, labels, title = \"The dependence of reward on the n_sessions\")"
      ],
      "metadata": {
        "colab": {
          "base_uri": "https://localhost:8080/",
          "height": 729
        },
        "id": "aiMt4bIN3Fmv",
        "outputId": "b053ef6b-b4ad-4a1c-9adf-29180e14e897"
      },
      "execution_count": null,
      "outputs": [
        {
          "output_type": "display_data",
          "data": {
            "text/plain": [
              "<Figure size 1000x800 with 1 Axes>"
            ],
            "image/png": "[encoded data removed]"
          },
          "metadata": {}
        }
      ]
    },
    {
      "cell_type": "code",
      "source": [
        "n_sessions = 250\n",
        "percentile = 50\n",
        "\n",
        "rewards_all = []\n",
        "labels = []\n",
        "for percentile in [30, 50, 75]:\n",
        "    rewards = training_loop(n_sessions, percentile, n_epochs = 50)\n",
        "    rewards_all.append(rewards)\n",
        "    labels.append(f\"percentile = {percentile}\")"
      ],
      "metadata": {
        "colab": {
          "base_uri": "https://localhost:8080/"
        },
        "id": "euCxMvMc4x6x",
        "outputId": "b9f0c6c3-895c-4e5d-a3cb-a6adf2c5c223"
      },
      "execution_count": null,
      "outputs": [
        {
          "output_type": "stream",
          "name": "stderr",
          "text": [
            "100%|██████████| 50/50 [01:12<00:00,  1.46s/it]\n",
            "100%|██████████| 50/50 [00:45<00:00,  1.11it/s]\n",
            "100%|██████████| 50/50 [01:11<00:00,  1.42s/it]\n"
          ]
        }
      ]
    },
    {
      "cell_type": "code",
      "source": [
        "visualize(rewards_all, labels, title = \"The dependence of reward on the percentile\")"
      ],
      "metadata": {
        "colab": {
          "base_uri": "https://localhost:8080/",
          "height": 729
        },
        "id": "rDWXHq3P42Mh",
        "outputId": "c2af3ee3-2401-4de7-8cd8-183ff1a5edf3"
      },
      "execution_count": null,
      "outputs": [
        {
          "output_type": "display_data",
          "data": {
            "text/plain": [
              "<Figure size 1000x800 with 1 Axes>"
            ],
            "image/png": "[encoded data removed]"
          },
          "metadata": {}
        }
      ]
    },
    {
      "cell_type": "markdown",
      "source": [
        "A percentile that is too high does not converge, and a percentile that is too low converges slowly.\n",
        "\n",
        "Experiments have shown that it is better to use more sessions and fewer percentiles, so let's use n_sessions = 1000 and percentile = 30"
      ],
      "metadata": {
        "id": "TLwCWVpH6k8v"
      }
    },
    {
      "cell_type": "code",
      "source": [
        "n_sessions = 1000\n",
        "percentile = 30\n",
        "\n",
        "rewards = training_loop(n_sessions, percentile, n_epochs = 50)\n",
        "label = f\"n_sessions = {n_sessions}, percentile = {percentile}\""
      ],
      "metadata": {
        "colab": {
          "base_uri": "https://localhost:8080/"
        },
        "id": "u1KcCLW17Mz_",
        "outputId": "0d49f2af-e303-4a4f-eaba-38393bf1f817"
      },
      "execution_count": null,
      "outputs": [
        {
          "output_type": "stream",
          "name": "stderr",
          "text": [
            "100%|██████████| 50/50 [05:33<00:00,  6.66s/it]\n"
          ]
        }
      ]
    },
    {
      "cell_type": "code",
      "source": [
        "visualize([rewards], [label], title = \"Tuned\")"
      ],
      "metadata": {
        "colab": {
          "base_uri": "https://localhost:8080/",
          "height": 729
        },
        "id": "Hr99DSrk87n5",
        "outputId": "22be767b-2676-49fb-87a9-11c17c5081bd"
      },
      "execution_count": null,
      "outputs": [
        {
          "output_type": "display_data",
          "data": {
            "text/plain": [
              "<Figure size 1000x800 with 1 Axes>"
            ],
            "image/png": "[encoded data removed]"
          },
          "metadata": {}
        }
      ]
    },
    {
      "cell_type": "code",
      "source": [
        "print(f\"Last reward is {rewards[-1]}\")"
      ],
      "metadata": {
        "colab": {
          "base_uri": "https://localhost:8080/"
        },
        "id": "IwNUgMqSCpHi",
        "outputId": "72350ebb-90ae-40fb-b6b6-aac9b20befd0"
      },
      "execution_count": null,
      "outputs": [
        {
          "output_type": "stream",
          "name": "stdout",
          "text": [
            "Last reward is 3.731\n"
          ]
        }
      ]
    },
    {
      "cell_type": "markdown",
      "metadata": {
        "id": "Dzk41lDPG9zO"
      },
      "source": [
        "### Bonus tasks\n",
        "\n",
        "* __2.3 bonus__ (2 pts) Try to find a network architecture and training params that solve __both__ environments above (_Points depend on implementation. If you attempted this task, please mention it in Anytask submission._)\n",
        "\n",
        "* __2.4 bonus__ (4 pts) Solve continuous action space task with `MLPRegressor` or similar.\n",
        "  * Since your agent only predicts the \"expected\" action, you will have to add noise to ensure exploration.\n",
        "  * Choose one of [MountainCarContinuous-v0](https://gymnasium.farama.org/environments/classic_control/mountain_car_continuous/) (90+ pts to solve), [LunarLanderContinuous-v2](https://gymnasium.farama.org/environments/box2d/lunar_lander/) (`env = gym.make(\"LunarLander-v2\", continuous=True)`)(200+ pts to solve)\n",
        "  * 4 points for solving. Slightly less for getting some results below solution threshold. Note that discrete and continuous environments may have slightly different rules, aside from action spaces."
      ]
    }
  ],
  "metadata": {
    "colab": {
      "provenance": []
    },
    "kernelspec": {
      "display_name": "Python 3",
      "language": "python",
      "name": "python3"
    },
    "language_info": {
      "codemirror_mode": {
        "name": "ipython",
        "version": 3
      },
      "file_extension": ".py",
      "mimetype": "text/x-python",
      "name": "python",
      "nbconvert_exporter": "python",
      "pygments_lexer": "ipython3",
      "version": "3.8.5"
    }
  },
  "nbformat": 4,
  "nbformat_minor": 0
}